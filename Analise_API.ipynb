{
  "nbformat": 4,
  "nbformat_minor": 0,
  "metadata": {
    "colab": {
      "provenance": [],
      "authorship_tag": "ABX9TyOLpeP3zhBdO4ejBRGgD8t+",
      "include_colab_link": true
    },
    "kernelspec": {
      "name": "python3",
      "display_name": "Python 3"
    },
    "language_info": {
      "name": "python"
    }
  },
  "cells": [
    {
      "cell_type": "markdown",
      "metadata": {
        "id": "view-in-github",
        "colab_type": "text"
      },
      "source": [
        "<a href=\"https://colab.research.google.com/github/mikasa42/desafio-junior-data-scientist/blob/main/Analise_API.ipynb\" target=\"_parent\"><img src=\"https://colab.research.google.com/assets/colab-badge.svg\" alt=\"Open In Colab\"/></a>"
      ]
    },
    {
      "cell_type": "markdown",
      "source": [
        "# Integração com APIs: Feriados e Tempo"
      ],
      "metadata": {
        "id": "L6ofO4CE5IgD"
      }
    },
    {
      "cell_type": "code",
      "execution_count": 4,
      "metadata": {
        "colab": {
          "base_uri": "https://localhost:8080/"
        },
        "id": "3iIqI88w5Dbw",
        "outputId": "d3ea15ee-c9d0-4b80-8cf5-964b3a2d355e"
      },
      "outputs": [
        {
          "output_type": "stream",
          "name": "stdout",
          "text": [
            "Requirement already satisfied: requests in /usr/local/lib/python3.11/dist-packages (2.32.3)\n",
            "Requirement already satisfied: charset-normalizer<4,>=2 in /usr/local/lib/python3.11/dist-packages (from requests) (3.4.1)\n",
            "Requirement already satisfied: idna<4,>=2.5 in /usr/local/lib/python3.11/dist-packages (from requests) (3.10)\n",
            "Requirement already satisfied: urllib3<3,>=1.21.1 in /usr/local/lib/python3.11/dist-packages (from requests) (2.3.0)\n",
            "Requirement already satisfied: certifi>=2017.4.17 in /usr/local/lib/python3.11/dist-packages (from requests) (2025.1.31)\n",
            "Requirement already satisfied: pandas in /usr/local/lib/python3.11/dist-packages (2.2.2)\n",
            "Requirement already satisfied: requests in /usr/local/lib/python3.11/dist-packages (2.32.3)\n",
            "Requirement already satisfied: numpy>=1.23.2 in /usr/local/lib/python3.11/dist-packages (from pandas) (2.0.2)\n",
            "Requirement already satisfied: python-dateutil>=2.8.2 in /usr/local/lib/python3.11/dist-packages (from pandas) (2.8.2)\n",
            "Requirement already satisfied: pytz>=2020.1 in /usr/local/lib/python3.11/dist-packages (from pandas) (2025.1)\n",
            "Requirement already satisfied: tzdata>=2022.7 in /usr/local/lib/python3.11/dist-packages (from pandas) (2025.1)\n",
            "Requirement already satisfied: charset-normalizer<4,>=2 in /usr/local/lib/python3.11/dist-packages (from requests) (3.4.1)\n",
            "Requirement already satisfied: idna<4,>=2.5 in /usr/local/lib/python3.11/dist-packages (from requests) (3.10)\n",
            "Requirement already satisfied: urllib3<3,>=1.21.1 in /usr/local/lib/python3.11/dist-packages (from requests) (2.3.0)\n",
            "Requirement already satisfied: certifi>=2017.4.17 in /usr/local/lib/python3.11/dist-packages (from requests) (2025.1.31)\n",
            "Requirement already satisfied: six>=1.5 in /usr/local/lib/python3.11/dist-packages (from python-dateutil>=2.8.2->pandas) (1.17.0)\n"
          ]
        }
      ],
      "source": [
        "\n",
        "!pip install requests\n",
        "!pip install pandas requests\n",
        "\n",
        "import requests\n",
        "import pandas as pd\n",
        "from datetime import datetime\n"
      ]
    },
    {
      "cell_type": "markdown",
      "source": [
        "## Graficos"
      ],
      "metadata": {
        "id": "ldbkJPyb-WGR"
      }
    },
    {
      "cell_type": "code",
      "source": [
        "import plotly.express as px\n",
        "\n",
        "def plot_bar(data, x, y, color, text, title, subtitle, labels, color_discrete_sequence=None, orientation='v'):\n",
        "  fig = px.bar(data,\n",
        "               x = x,\n",
        "               y = y,\n",
        "               color = color,\n",
        "               text = text,\n",
        "               title=title + f' {subtitle}',\n",
        "               labels=labels,\n",
        "               color_discrete_sequence=color_discrete_sequence)\n",
        "  fig.update_traces(textposition='outside', showlegend=False)\n",
        "  fig.update_layout(width=1080, bargap=0.2)\n",
        "  fig.show()"
      ],
      "metadata": {
        "id": "6X_260-_-VQ0"
      },
      "execution_count": 13,
      "outputs": []
    },
    {
      "cell_type": "code",
      "source": [
        "# URL da API para os feriados do Brasil em 2024\n",
        "url = \"https://date.nager.at/api/v3/PublicHolidays/2024/BR\"\n",
        "response = requests.get(url)\n",
        "\n",
        "if response.status_code == 200:\n",
        "    feriados = response.json()\n",
        "\n",
        "    # Criar DataFrame com os feriados\n",
        "    df = pd.DataFrame(feriados)\n",
        "else:\n",
        "    print(f\"Erro ao acessar a API: {response.status_code}\")\n",
        ""
      ],
      "metadata": {
        "id": "-XylEUkADLnM"
      },
      "execution_count": 27,
      "outputs": []
    },
    {
      "cell_type": "markdown",
      "source": [
        "## Questão 1)\n",
        "###Quantos feriados há no Brasil em todo o ano de 2024?"
      ],
      "metadata": {
        "id": "J-N2Q9M06H43"
      }
    },
    {
      "cell_type": "code",
      "source": [
        "    # Criar DataFrame com os feriados\n",
        "    df = pd.DataFrame(feriados)\n",
        "    total_feriados = len(df)\n",
        "    print(f\"O Brasil terá {total_feriados} feriados em 2024.\")"
      ],
      "metadata": {
        "colab": {
          "base_uri": "https://localhost:8080/"
        },
        "id": "Ddgo_bi75Y-j",
        "outputId": "0923d550-5734-4af6-d4a8-23bbd864c6dc"
      },
      "execution_count": 137,
      "outputs": [
        {
          "output_type": "stream",
          "name": "stdout",
          "text": [
            "O Brasil terá 15 feriados em 2024.\n"
          ]
        }
      ]
    },
    {
      "cell_type": "markdown",
      "source": [
        "## Questão 2)\n",
        "### Qual mês de 2024 tem o maior número de feriados?"
      ],
      "metadata": {
        "id": "mBepsqu49dEp"
      }
    },
    {
      "cell_type": "code",
      "source": [
        "\n",
        "    # Converter a coluna 'date' para datetime\n",
        "    df[\"date\"] = pd.to_datetime(df[\"date\"])\n",
        "\n",
        "    # Criar uma nova coluna com o nome do mês\n",
        "    df[\"month\"] = df[\"date\"].dt.strftime(\"%B\")  # Nome do mês por extenso (Ex: \"January\", \"February\")\n",
        "\n",
        "    # Contar a quantidade de feriados por mês\n",
        "    count_feriados_por_mes = df.groupby(\"month\").size().reset_index(name=\"count\")\n",
        "\n",
        "    # Ordenar os meses corretamente\n",
        "    meses_ordenados = [\"January\", \"February\", \"March\", \"April\", \"May\", \"June\",\n",
        "                       \"July\", \"August\", \"September\", \"October\", \"November\", \"December\"]\n",
        "\n",
        "    count_feriados_por_mes[\"month\"] = pd.Categorical(count_feriados_por_mes[\"month\"], categories=meses_ordenados, ordered=True)\n",
        "    count_feriados_por_mes = count_feriados_por_mes.sort_values(\"month\")\n",
        "\n",
        "    plot_bar(data=count_feriados_por_mes,\n",
        "         x='month',\n",
        "         y='count',\n",
        "         color='month',\n",
        "         text='count',\n",
        "         title='Feriados por messes',\n",
        "         subtitle=' ',\n",
        "         labels={'month': 'Dia', 'count': 'Quantidade'},\n",
        "         )\n",
        "    mes_com_mais_feriados = count_feriados_por_mes.loc[count_feriados_por_mes['count'].idxmax()]\n",
        "    print(\"\\n\")\n",
        "    print(f\"O mês com mais feriados é {mes_com_mais_feriados['month']} com {mes_com_mais_feriados['count']} feriados.\")\n",
        "    print(\"\\n\")\n"
      ],
      "metadata": {
        "colab": {
          "base_uri": "https://localhost:8080/",
          "height": 629
        },
        "id": "LlFpFnOy8PeC",
        "outputId": "74683834-0ced-48a3-cfaf-72947338a451"
      },
      "execution_count": 25,
      "outputs": [
        {
          "output_type": "display_data",
          "data": {
            "text/html": [
              "<html>\n",
              "<head><meta charset=\"utf-8\" /></head>\n",
              "<body>\n",
              "    <div>            <script src=\"https://cdnjs.cloudflare.com/ajax/libs/mathjax/2.7.5/MathJax.js?config=TeX-AMS-MML_SVG\"></script><script type=\"text/javascript\">if (window.MathJax && window.MathJax.Hub && window.MathJax.Hub.Config) {window.MathJax.Hub.Config({SVG: {font: \"STIX-Web\"}});}</script>                <script type=\"text/javascript\">window.PlotlyConfig = {MathJaxConfig: 'local'};</script>\n",
              "        <script charset=\"utf-8\" src=\"https://cdn.plot.ly/plotly-2.35.2.min.js\"></script>                <div id=\"cc1da520-b238-4b84-9577-4c8c57d4c176\" class=\"plotly-graph-div\" style=\"height:525px; width:1080px;\"></div>            <script type=\"text/javascript\">                                    window.PLOTLYENV=window.PLOTLYENV || {};                                    if (document.getElementById(\"cc1da520-b238-4b84-9577-4c8c57d4c176\")) {                    Plotly.newPlot(                        \"cc1da520-b238-4b84-9577-4c8c57d4c176\",                        [{\"alignmentgroup\":\"True\",\"hovertemplate\":\"Dia=%{x}\\u003cbr\\u003eQuantidade=%{text}\\u003cextra\\u003e\\u003c\\u002fextra\\u003e\",\"legendgroup\":\"January\",\"marker\":{\"color\":\"#636efa\",\"pattern\":{\"shape\":\"\"}},\"name\":\"January\",\"offsetgroup\":\"January\",\"orientation\":\"v\",\"showlegend\":false,\"text\":[1.0],\"textposition\":\"outside\",\"x\":[\"January\"],\"xaxis\":\"x\",\"y\":[1],\"yaxis\":\"y\",\"type\":\"bar\"},{\"alignmentgroup\":\"True\",\"hovertemplate\":\"Dia=%{x}\\u003cbr\\u003eQuantidade=%{text}\\u003cextra\\u003e\\u003c\\u002fextra\\u003e\",\"legendgroup\":\"February\",\"marker\":{\"color\":\"#EF553B\",\"pattern\":{\"shape\":\"\"}},\"name\":\"February\",\"offsetgroup\":\"February\",\"orientation\":\"v\",\"showlegend\":false,\"text\":[2.0],\"textposition\":\"outside\",\"x\":[\"February\"],\"xaxis\":\"x\",\"y\":[2],\"yaxis\":\"y\",\"type\":\"bar\"},{\"alignmentgroup\":\"True\",\"hovertemplate\":\"Dia=%{x}\\u003cbr\\u003eQuantidade=%{text}\\u003cextra\\u003e\\u003c\\u002fextra\\u003e\",\"legendgroup\":\"March\",\"marker\":{\"color\":\"#00cc96\",\"pattern\":{\"shape\":\"\"}},\"name\":\"March\",\"offsetgroup\":\"March\",\"orientation\":\"v\",\"showlegend\":false,\"text\":[2.0],\"textposition\":\"outside\",\"x\":[\"March\"],\"xaxis\":\"x\",\"y\":[2],\"yaxis\":\"y\",\"type\":\"bar\"},{\"alignmentgroup\":\"True\",\"hovertemplate\":\"Dia=%{x}\\u003cbr\\u003eQuantidade=%{text}\\u003cextra\\u003e\\u003c\\u002fextra\\u003e\",\"legendgroup\":\"April\",\"marker\":{\"color\":\"#ab63fa\",\"pattern\":{\"shape\":\"\"}},\"name\":\"April\",\"offsetgroup\":\"April\",\"orientation\":\"v\",\"showlegend\":false,\"text\":[1.0],\"textposition\":\"outside\",\"x\":[\"April\"],\"xaxis\":\"x\",\"y\":[1],\"yaxis\":\"y\",\"type\":\"bar\"},{\"alignmentgroup\":\"True\",\"hovertemplate\":\"Dia=%{x}\\u003cbr\\u003eQuantidade=%{text}\\u003cextra\\u003e\\u003c\\u002fextra\\u003e\",\"legendgroup\":\"May\",\"marker\":{\"color\":\"#FFA15A\",\"pattern\":{\"shape\":\"\"}},\"name\":\"May\",\"offsetgroup\":\"May\",\"orientation\":\"v\",\"showlegend\":false,\"text\":[2.0],\"textposition\":\"outside\",\"x\":[\"May\"],\"xaxis\":\"x\",\"y\":[2],\"yaxis\":\"y\",\"type\":\"bar\"},{\"alignmentgroup\":\"True\",\"hovertemplate\":\"Dia=%{x}\\u003cbr\\u003eQuantidade=%{text}\\u003cextra\\u003e\\u003c\\u002fextra\\u003e\",\"legendgroup\":\"July\",\"marker\":{\"color\":\"#19d3f3\",\"pattern\":{\"shape\":\"\"}},\"name\":\"July\",\"offsetgroup\":\"July\",\"orientation\":\"v\",\"showlegend\":false,\"text\":[1.0],\"textposition\":\"outside\",\"x\":[\"July\"],\"xaxis\":\"x\",\"y\":[1],\"yaxis\":\"y\",\"type\":\"bar\"},{\"alignmentgroup\":\"True\",\"hovertemplate\":\"Dia=%{x}\\u003cbr\\u003eQuantidade=%{text}\\u003cextra\\u003e\\u003c\\u002fextra\\u003e\",\"legendgroup\":\"September\",\"marker\":{\"color\":\"#FF6692\",\"pattern\":{\"shape\":\"\"}},\"name\":\"September\",\"offsetgroup\":\"September\",\"orientation\":\"v\",\"showlegend\":false,\"text\":[1.0],\"textposition\":\"outside\",\"x\":[\"September\"],\"xaxis\":\"x\",\"y\":[1],\"yaxis\":\"y\",\"type\":\"bar\"},{\"alignmentgroup\":\"True\",\"hovertemplate\":\"Dia=%{x}\\u003cbr\\u003eQuantidade=%{text}\\u003cextra\\u003e\\u003c\\u002fextra\\u003e\",\"legendgroup\":\"October\",\"marker\":{\"color\":\"#B6E880\",\"pattern\":{\"shape\":\"\"}},\"name\":\"October\",\"offsetgroup\":\"October\",\"orientation\":\"v\",\"showlegend\":false,\"text\":[1.0],\"textposition\":\"outside\",\"x\":[\"October\"],\"xaxis\":\"x\",\"y\":[1],\"yaxis\":\"y\",\"type\":\"bar\"},{\"alignmentgroup\":\"True\",\"hovertemplate\":\"Dia=%{x}\\u003cbr\\u003eQuantidade=%{text}\\u003cextra\\u003e\\u003c\\u002fextra\\u003e\",\"legendgroup\":\"November\",\"marker\":{\"color\":\"#FF97FF\",\"pattern\":{\"shape\":\"\"}},\"name\":\"November\",\"offsetgroup\":\"November\",\"orientation\":\"v\",\"showlegend\":false,\"text\":[3.0],\"textposition\":\"outside\",\"x\":[\"November\"],\"xaxis\":\"x\",\"y\":[3],\"yaxis\":\"y\",\"type\":\"bar\"},{\"alignmentgroup\":\"True\",\"hovertemplate\":\"Dia=%{x}\\u003cbr\\u003eQuantidade=%{text}\\u003cextra\\u003e\\u003c\\u002fextra\\u003e\",\"legendgroup\":\"December\",\"marker\":{\"color\":\"#FECB52\",\"pattern\":{\"shape\":\"\"}},\"name\":\"December\",\"offsetgroup\":\"December\",\"orientation\":\"v\",\"showlegend\":false,\"text\":[1.0],\"textposition\":\"outside\",\"x\":[\"December\"],\"xaxis\":\"x\",\"y\":[1],\"yaxis\":\"y\",\"type\":\"bar\"}],                        {\"template\":{\"data\":{\"histogram2dcontour\":[{\"type\":\"histogram2dcontour\",\"colorbar\":{\"outlinewidth\":0,\"ticks\":\"\"},\"colorscale\":[[0.0,\"#0d0887\"],[0.1111111111111111,\"#46039f\"],[0.2222222222222222,\"#7201a8\"],[0.3333333333333333,\"#9c179e\"],[0.4444444444444444,\"#bd3786\"],[0.5555555555555556,\"#d8576b\"],[0.6666666666666666,\"#ed7953\"],[0.7777777777777778,\"#fb9f3a\"],[0.8888888888888888,\"#fdca26\"],[1.0,\"#f0f921\"]]}],\"choropleth\":[{\"type\":\"choropleth\",\"colorbar\":{\"outlinewidth\":0,\"ticks\":\"\"}}],\"histogram2d\":[{\"type\":\"histogram2d\",\"colorbar\":{\"outlinewidth\":0,\"ticks\":\"\"},\"colorscale\":[[0.0,\"#0d0887\"],[0.1111111111111111,\"#46039f\"],[0.2222222222222222,\"#7201a8\"],[0.3333333333333333,\"#9c179e\"],[0.4444444444444444,\"#bd3786\"],[0.5555555555555556,\"#d8576b\"],[0.6666666666666666,\"#ed7953\"],[0.7777777777777778,\"#fb9f3a\"],[0.8888888888888888,\"#fdca26\"],[1.0,\"#f0f921\"]]}],\"heatmap\":[{\"type\":\"heatmap\",\"colorbar\":{\"outlinewidth\":0,\"ticks\":\"\"},\"colorscale\":[[0.0,\"#0d0887\"],[0.1111111111111111,\"#46039f\"],[0.2222222222222222,\"#7201a8\"],[0.3333333333333333,\"#9c179e\"],[0.4444444444444444,\"#bd3786\"],[0.5555555555555556,\"#d8576b\"],[0.6666666666666666,\"#ed7953\"],[0.7777777777777778,\"#fb9f3a\"],[0.8888888888888888,\"#fdca26\"],[1.0,\"#f0f921\"]]}],\"heatmapgl\":[{\"type\":\"heatmapgl\",\"colorbar\":{\"outlinewidth\":0,\"ticks\":\"\"},\"colorscale\":[[0.0,\"#0d0887\"],[0.1111111111111111,\"#46039f\"],[0.2222222222222222,\"#7201a8\"],[0.3333333333333333,\"#9c179e\"],[0.4444444444444444,\"#bd3786\"],[0.5555555555555556,\"#d8576b\"],[0.6666666666666666,\"#ed7953\"],[0.7777777777777778,\"#fb9f3a\"],[0.8888888888888888,\"#fdca26\"],[1.0,\"#f0f921\"]]}],\"contourcarpet\":[{\"type\":\"contourcarpet\",\"colorbar\":{\"outlinewidth\":0,\"ticks\":\"\"}}],\"contour\":[{\"type\":\"contour\",\"colorbar\":{\"outlinewidth\":0,\"ticks\":\"\"},\"colorscale\":[[0.0,\"#0d0887\"],[0.1111111111111111,\"#46039f\"],[0.2222222222222222,\"#7201a8\"],[0.3333333333333333,\"#9c179e\"],[0.4444444444444444,\"#bd3786\"],[0.5555555555555556,\"#d8576b\"],[0.6666666666666666,\"#ed7953\"],[0.7777777777777778,\"#fb9f3a\"],[0.8888888888888888,\"#fdca26\"],[1.0,\"#f0f921\"]]}],\"surface\":[{\"type\":\"surface\",\"colorbar\":{\"outlinewidth\":0,\"ticks\":\"\"},\"colorscale\":[[0.0,\"#0d0887\"],[0.1111111111111111,\"#46039f\"],[0.2222222222222222,\"#7201a8\"],[0.3333333333333333,\"#9c179e\"],[0.4444444444444444,\"#bd3786\"],[0.5555555555555556,\"#d8576b\"],[0.6666666666666666,\"#ed7953\"],[0.7777777777777778,\"#fb9f3a\"],[0.8888888888888888,\"#fdca26\"],[1.0,\"#f0f921\"]]}],\"mesh3d\":[{\"type\":\"mesh3d\",\"colorbar\":{\"outlinewidth\":0,\"ticks\":\"\"}}],\"scatter\":[{\"fillpattern\":{\"fillmode\":\"overlay\",\"size\":10,\"solidity\":0.2},\"type\":\"scatter\"}],\"parcoords\":[{\"type\":\"parcoords\",\"line\":{\"colorbar\":{\"outlinewidth\":0,\"ticks\":\"\"}}}],\"scatterpolargl\":[{\"type\":\"scatterpolargl\",\"marker\":{\"colorbar\":{\"outlinewidth\":0,\"ticks\":\"\"}}}],\"bar\":[{\"error_x\":{\"color\":\"#2a3f5f\"},\"error_y\":{\"color\":\"#2a3f5f\"},\"marker\":{\"line\":{\"color\":\"#E5ECF6\",\"width\":0.5},\"pattern\":{\"fillmode\":\"overlay\",\"size\":10,\"solidity\":0.2}},\"type\":\"bar\"}],\"scattergeo\":[{\"type\":\"scattergeo\",\"marker\":{\"colorbar\":{\"outlinewidth\":0,\"ticks\":\"\"}}}],\"scatterpolar\":[{\"type\":\"scatterpolar\",\"marker\":{\"colorbar\":{\"outlinewidth\":0,\"ticks\":\"\"}}}],\"histogram\":[{\"marker\":{\"pattern\":{\"fillmode\":\"overlay\",\"size\":10,\"solidity\":0.2}},\"type\":\"histogram\"}],\"scattergl\":[{\"type\":\"scattergl\",\"marker\":{\"colorbar\":{\"outlinewidth\":0,\"ticks\":\"\"}}}],\"scatter3d\":[{\"type\":\"scatter3d\",\"line\":{\"colorbar\":{\"outlinewidth\":0,\"ticks\":\"\"}},\"marker\":{\"colorbar\":{\"outlinewidth\":0,\"ticks\":\"\"}}}],\"scattermapbox\":[{\"type\":\"scattermapbox\",\"marker\":{\"colorbar\":{\"outlinewidth\":0,\"ticks\":\"\"}}}],\"scatterternary\":[{\"type\":\"scatterternary\",\"marker\":{\"colorbar\":{\"outlinewidth\":0,\"ticks\":\"\"}}}],\"scattercarpet\":[{\"type\":\"scattercarpet\",\"marker\":{\"colorbar\":{\"outlinewidth\":0,\"ticks\":\"\"}}}],\"carpet\":[{\"aaxis\":{\"endlinecolor\":\"#2a3f5f\",\"gridcolor\":\"white\",\"linecolor\":\"white\",\"minorgridcolor\":\"white\",\"startlinecolor\":\"#2a3f5f\"},\"baxis\":{\"endlinecolor\":\"#2a3f5f\",\"gridcolor\":\"white\",\"linecolor\":\"white\",\"minorgridcolor\":\"white\",\"startlinecolor\":\"#2a3f5f\"},\"type\":\"carpet\"}],\"table\":[{\"cells\":{\"fill\":{\"color\":\"#EBF0F8\"},\"line\":{\"color\":\"white\"}},\"header\":{\"fill\":{\"color\":\"#C8D4E3\"},\"line\":{\"color\":\"white\"}},\"type\":\"table\"}],\"barpolar\":[{\"marker\":{\"line\":{\"color\":\"#E5ECF6\",\"width\":0.5},\"pattern\":{\"fillmode\":\"overlay\",\"size\":10,\"solidity\":0.2}},\"type\":\"barpolar\"}],\"pie\":[{\"automargin\":true,\"type\":\"pie\"}]},\"layout\":{\"autotypenumbers\":\"strict\",\"colorway\":[\"#636efa\",\"#EF553B\",\"#00cc96\",\"#ab63fa\",\"#FFA15A\",\"#19d3f3\",\"#FF6692\",\"#B6E880\",\"#FF97FF\",\"#FECB52\"],\"font\":{\"color\":\"#2a3f5f\"},\"hovermode\":\"closest\",\"hoverlabel\":{\"align\":\"left\"},\"paper_bgcolor\":\"white\",\"plot_bgcolor\":\"#E5ECF6\",\"polar\":{\"bgcolor\":\"#E5ECF6\",\"angularaxis\":{\"gridcolor\":\"white\",\"linecolor\":\"white\",\"ticks\":\"\"},\"radialaxis\":{\"gridcolor\":\"white\",\"linecolor\":\"white\",\"ticks\":\"\"}},\"ternary\":{\"bgcolor\":\"#E5ECF6\",\"aaxis\":{\"gridcolor\":\"white\",\"linecolor\":\"white\",\"ticks\":\"\"},\"baxis\":{\"gridcolor\":\"white\",\"linecolor\":\"white\",\"ticks\":\"\"},\"caxis\":{\"gridcolor\":\"white\",\"linecolor\":\"white\",\"ticks\":\"\"}},\"coloraxis\":{\"colorbar\":{\"outlinewidth\":0,\"ticks\":\"\"}},\"colorscale\":{\"sequential\":[[0.0,\"#0d0887\"],[0.1111111111111111,\"#46039f\"],[0.2222222222222222,\"#7201a8\"],[0.3333333333333333,\"#9c179e\"],[0.4444444444444444,\"#bd3786\"],[0.5555555555555556,\"#d8576b\"],[0.6666666666666666,\"#ed7953\"],[0.7777777777777778,\"#fb9f3a\"],[0.8888888888888888,\"#fdca26\"],[1.0,\"#f0f921\"]],\"sequentialminus\":[[0.0,\"#0d0887\"],[0.1111111111111111,\"#46039f\"],[0.2222222222222222,\"#7201a8\"],[0.3333333333333333,\"#9c179e\"],[0.4444444444444444,\"#bd3786\"],[0.5555555555555556,\"#d8576b\"],[0.6666666666666666,\"#ed7953\"],[0.7777777777777778,\"#fb9f3a\"],[0.8888888888888888,\"#fdca26\"],[1.0,\"#f0f921\"]],\"diverging\":[[0,\"#8e0152\"],[0.1,\"#c51b7d\"],[0.2,\"#de77ae\"],[0.3,\"#f1b6da\"],[0.4,\"#fde0ef\"],[0.5,\"#f7f7f7\"],[0.6,\"#e6f5d0\"],[0.7,\"#b8e186\"],[0.8,\"#7fbc41\"],[0.9,\"#4d9221\"],[1,\"#276419\"]]},\"xaxis\":{\"gridcolor\":\"white\",\"linecolor\":\"white\",\"ticks\":\"\",\"title\":{\"standoff\":15},\"zerolinecolor\":\"white\",\"automargin\":true,\"zerolinewidth\":2},\"yaxis\":{\"gridcolor\":\"white\",\"linecolor\":\"white\",\"ticks\":\"\",\"title\":{\"standoff\":15},\"zerolinecolor\":\"white\",\"automargin\":true,\"zerolinewidth\":2},\"scene\":{\"xaxis\":{\"backgroundcolor\":\"#E5ECF6\",\"gridcolor\":\"white\",\"linecolor\":\"white\",\"showbackground\":true,\"ticks\":\"\",\"zerolinecolor\":\"white\",\"gridwidth\":2},\"yaxis\":{\"backgroundcolor\":\"#E5ECF6\",\"gridcolor\":\"white\",\"linecolor\":\"white\",\"showbackground\":true,\"ticks\":\"\",\"zerolinecolor\":\"white\",\"gridwidth\":2},\"zaxis\":{\"backgroundcolor\":\"#E5ECF6\",\"gridcolor\":\"white\",\"linecolor\":\"white\",\"showbackground\":true,\"ticks\":\"\",\"zerolinecolor\":\"white\",\"gridwidth\":2}},\"shapedefaults\":{\"line\":{\"color\":\"#2a3f5f\"}},\"annotationdefaults\":{\"arrowcolor\":\"#2a3f5f\",\"arrowhead\":0,\"arrowwidth\":1},\"geo\":{\"bgcolor\":\"white\",\"landcolor\":\"#E5ECF6\",\"subunitcolor\":\"white\",\"showland\":true,\"showlakes\":true,\"lakecolor\":\"white\"},\"title\":{\"x\":0.05},\"mapbox\":{\"style\":\"light\"}}},\"xaxis\":{\"anchor\":\"y\",\"domain\":[0.0,1.0],\"title\":{\"text\":\"Dia\"},\"categoryorder\":\"array\",\"categoryarray\":[\"January\",\"February\",\"March\",\"April\",\"May\",\"July\",\"September\",\"October\",\"November\",\"December\"]},\"yaxis\":{\"anchor\":\"x\",\"domain\":[0.0,1.0],\"title\":{\"text\":\"Quantidade\"}},\"legend\":{\"title\":{\"text\":\"Dia\"},\"tracegroupgap\":0},\"title\":{\"text\":\"Feriados por messes  \"},\"barmode\":\"relative\",\"width\":1080,\"bargap\":0.2},                        {\"responsive\": true}                    ).then(function(){\n",
              "                            \n",
              "var gd = document.getElementById('cc1da520-b238-4b84-9577-4c8c57d4c176');\n",
              "var x = new MutationObserver(function (mutations, observer) {{\n",
              "        var display = window.getComputedStyle(gd).display;\n",
              "        if (!display || display === 'none') {{\n",
              "            console.log([gd, 'removed!']);\n",
              "            Plotly.purge(gd);\n",
              "            observer.disconnect();\n",
              "        }}\n",
              "}});\n",
              "\n",
              "// Listen for the removal of the full notebook cells\n",
              "var notebookContainer = gd.closest('#notebook-container');\n",
              "if (notebookContainer) {{\n",
              "    x.observe(notebookContainer, {childList: true});\n",
              "}}\n",
              "\n",
              "// Listen for the clearing of the current output cell\n",
              "var outputEl = gd.closest('.output');\n",
              "if (outputEl) {{\n",
              "    x.observe(outputEl, {childList: true});\n",
              "}}\n",
              "\n",
              "                        })                };                            </script>        </div>\n",
              "</body>\n",
              "</html>"
            ]
          },
          "metadata": {}
        },
        {
          "output_type": "stream",
          "name": "stdout",
          "text": [
            "\n",
            "\n",
            "O mês com mais feriados é November com 3 feriados.\n",
            "\n",
            "\n"
          ]
        }
      ]
    },
    {
      "cell_type": "markdown",
      "source": [
        "## Questão 3)\n",
        "### Quantos feriados em 2024 caem em dias de semana (segunda a sexta-feira)?"
      ],
      "metadata": {
        "id": "drfmN9lGEN2H"
      }
    },
    {
      "cell_type": "code",
      "source": [
        "    # Converter a coluna 'date' para datetime\n",
        "    df[\"date\"] = pd.to_datetime(df[\"date\"])\n",
        "\n",
        "    # Criar uma coluna com o nome do dia da semana\n",
        "    df[\"weekday\"] = df[\"date\"].dt.day_name()  # Exemplo: \"Monday\", \"Tuesday\", etc.\n",
        "\n",
        "    # Filtrar apenas os feriados que caem de segunda a sexta-feira\n",
        "    dias_uteis = [\"Monday\", \"Tuesday\", \"Wednesday\", \"Thursday\", \"Friday\"]\n",
        "    feriados_uteis = df[df[\"weekday\"].isin(dias_uteis)]\n",
        "\n",
        "    # Contar quantos feriados caem em dias úteis\n",
        "    total_feriados_uteis = len(feriados_uteis)\n",
        "\n",
        "    # Exibir o resultado\n",
        "    print(f\"📅 Em 2024, o Brasil terá {total_feriados_uteis} feriados que caem em dias de semana (segunda a sexta-feira).\")"
      ],
      "metadata": {
        "colab": {
          "base_uri": "https://localhost:8080/"
        },
        "id": "QmMBz1KeB8k1",
        "outputId": "370a47fb-0a57-4952-e129-8bd7328b18bb"
      },
      "execution_count": 26,
      "outputs": [
        {
          "output_type": "stream",
          "name": "stdout",
          "text": [
            "📅 Em 2024, o Brasil terá 10 feriados que caem em dias de semana (segunda a sexta-feira).\n"
          ]
        }
      ]
    },
    {
      "cell_type": "markdown",
      "source": [
        "## Questão 4)\n",
        "### Qual foi a temperatura média em cada mês?"
      ],
      "metadata": {
        "id": "NW2RSthoEmwm"
      }
    },
    {
      "cell_type": "code",
      "source": [
        "# Definir a URL da API\n",
        "url = \"https://archive-api.open-meteo.com/v1/archive\"\n",
        "params = {\n",
        "    \"latitude\": -22.9068,\n",
        "    \"longitude\": -43.1729,\n",
        "    \"start_date\": \"2024-01-01\",\n",
        "    \"end_date\": \"2024-08-01\",\n",
        "    \"daily\": [\"temperature_2m_max\", \"temperature_2m_min\"],\n",
        "    \"timezone\": \"America/Sao_Paulo\"\n",
        "}\n",
        "\n",
        "# Fazer a requisição GET\n",
        "response = requests.get(url, params=params)\n",
        "data = response.json()\n",
        "\n",
        "# Criar DataFrame\n",
        "df_temperatura_diarias = pd.DataFrame({\n",
        "    \"Date\": pd.to_datetime(data[\"daily\"][\"time\"]),  # Converter para datetime\n",
        "    \"Temp_Max\": data[\"daily\"][\"temperature_2m_max\"],\n",
        "    \"Temp_Min\": data[\"daily\"][\"temperature_2m_min\"]\n",
        "})\n",
        "\n",
        "# Criar coluna de temperatura média diária\n",
        "df_temperatura_diarias[\"Temp_Avg\"] = (df_temperatura_diarias[\"Temp_Max\"] + df_temperatura_diarias[\"Temp_Min\"]) / 2\n",
        "\n",
        "# Criar coluna do mês\n",
        "df_temperatura_diarias[\"Month\"] = df_temperatura_diarias[\"Date\"].dt.strftime(\"%B\")  # Nome do mês por extenso\n",
        "\n",
        "# Calcular a média de temperatura por mês\n",
        "temp_media_por_mes = df_temperatura_diarias.groupby(\"Month\")[\"Temp_Avg\"].mean().reset_index()\n",
        "\n",
        "# Ordenar os meses corretamente\n",
        "meses_ordenados = [\"January\", \"February\", \"March\", \"April\", \"May\", \"June\",\n",
        "                       \"July\", \"August\", \"September\", \"October\", \"November\", \"December\"]\n",
        "temp_media_por_mes[\"Month\"] = pd.Categorical(temp_media_por_mes[\"Month\"], categories=meses_ordenados, ordered=True)\n",
        "temp_media_por_mes = temp_media_por_mes.sort_values(\"Month\").round(2)\n",
        "#Exibir o resultado\n",
        "plot_bar(data=temp_media_por_mes,\n",
        "         x='Month',\n",
        "         y='Temp_Avg',\n",
        "         color='Month',\n",
        "         text=\"Temp_Avg\",\n",
        "         title=\" média mensal\",\n",
        "         subtitle=\" \",\n",
        "         labels={'Month': 'Mês', 'Temp_Avg': 'Temperatura Média'},)\n",
        "\n"
      ],
      "metadata": {
        "colab": {
          "base_uri": "https://localhost:8080/",
          "height": 542
        },
        "id": "e9-_p7cOEfnu",
        "outputId": "e4bea798-57d6-47e1-8c2d-204a452029e8"
      },
      "execution_count": 94,
      "outputs": [
        {
          "output_type": "display_data",
          "data": {
            "text/html": [
              "<html>\n",
              "<head><meta charset=\"utf-8\" /></head>\n",
              "<body>\n",
              "    <div>            <script src=\"https://cdnjs.cloudflare.com/ajax/libs/mathjax/2.7.5/MathJax.js?config=TeX-AMS-MML_SVG\"></script><script type=\"text/javascript\">if (window.MathJax && window.MathJax.Hub && window.MathJax.Hub.Config) {window.MathJax.Hub.Config({SVG: {font: \"STIX-Web\"}});}</script>                <script type=\"text/javascript\">window.PlotlyConfig = {MathJaxConfig: 'local'};</script>\n",
              "        <script charset=\"utf-8\" src=\"https://cdn.plot.ly/plotly-2.35.2.min.js\"></script>                <div id=\"1911ea56-855f-4f1e-86a2-706874e9135d\" class=\"plotly-graph-div\" style=\"height:525px; width:1080px;\"></div>            <script type=\"text/javascript\">                                    window.PLOTLYENV=window.PLOTLYENV || {};                                    if (document.getElementById(\"1911ea56-855f-4f1e-86a2-706874e9135d\")) {                    Plotly.newPlot(                        \"1911ea56-855f-4f1e-86a2-706874e9135d\",                        [{\"alignmentgroup\":\"True\",\"hovertemplate\":\"Mês=%{x}\\u003cbr\\u003eTemperatura Média=%{text}\\u003cextra\\u003e\\u003c\\u002fextra\\u003e\",\"legendgroup\":\"January\",\"marker\":{\"color\":\"#636efa\",\"pattern\":{\"shape\":\"\"}},\"name\":\"January\",\"offsetgroup\":\"January\",\"orientation\":\"v\",\"showlegend\":false,\"text\":[27.1],\"textposition\":\"outside\",\"x\":[\"January\"],\"xaxis\":\"x\",\"y\":[27.1],\"yaxis\":\"y\",\"type\":\"bar\"},{\"alignmentgroup\":\"True\",\"hovertemplate\":\"Mês=%{x}\\u003cbr\\u003eTemperatura Média=%{text}\\u003cextra\\u003e\\u003c\\u002fextra\\u003e\",\"legendgroup\":\"February\",\"marker\":{\"color\":\"#EF553B\",\"pattern\":{\"shape\":\"\"}},\"name\":\"February\",\"offsetgroup\":\"February\",\"orientation\":\"v\",\"showlegend\":false,\"text\":[27.72],\"textposition\":\"outside\",\"x\":[\"February\"],\"xaxis\":\"x\",\"y\":[27.72],\"yaxis\":\"y\",\"type\":\"bar\"},{\"alignmentgroup\":\"True\",\"hovertemplate\":\"Mês=%{x}\\u003cbr\\u003eTemperatura Média=%{text}\\u003cextra\\u003e\\u003c\\u002fextra\\u003e\",\"legendgroup\":\"March\",\"marker\":{\"color\":\"#00cc96\",\"pattern\":{\"shape\":\"\"}},\"name\":\"March\",\"offsetgroup\":\"March\",\"orientation\":\"v\",\"showlegend\":false,\"text\":[26.89],\"textposition\":\"outside\",\"x\":[\"March\"],\"xaxis\":\"x\",\"y\":[26.89],\"yaxis\":\"y\",\"type\":\"bar\"},{\"alignmentgroup\":\"True\",\"hovertemplate\":\"Mês=%{x}\\u003cbr\\u003eTemperatura Média=%{text}\\u003cextra\\u003e\\u003c\\u002fextra\\u003e\",\"legendgroup\":\"April\",\"marker\":{\"color\":\"#ab63fa\",\"pattern\":{\"shape\":\"\"}},\"name\":\"April\",\"offsetgroup\":\"April\",\"orientation\":\"v\",\"showlegend\":false,\"text\":[25.65],\"textposition\":\"outside\",\"x\":[\"April\"],\"xaxis\":\"x\",\"y\":[25.65],\"yaxis\":\"y\",\"type\":\"bar\"},{\"alignmentgroup\":\"True\",\"hovertemplate\":\"Mês=%{x}\\u003cbr\\u003eTemperatura Média=%{text}\\u003cextra\\u003e\\u003c\\u002fextra\\u003e\",\"legendgroup\":\"May\",\"marker\":{\"color\":\"#FFA15A\",\"pattern\":{\"shape\":\"\"}},\"name\":\"May\",\"offsetgroup\":\"May\",\"orientation\":\"v\",\"showlegend\":false,\"text\":[25.58],\"textposition\":\"outside\",\"x\":[\"May\"],\"xaxis\":\"x\",\"y\":[25.58],\"yaxis\":\"y\",\"type\":\"bar\"},{\"alignmentgroup\":\"True\",\"hovertemplate\":\"Mês=%{x}\\u003cbr\\u003eTemperatura Média=%{text}\\u003cextra\\u003e\\u003c\\u002fextra\\u003e\",\"legendgroup\":\"June\",\"marker\":{\"color\":\"#19d3f3\",\"pattern\":{\"shape\":\"\"}},\"name\":\"June\",\"offsetgroup\":\"June\",\"orientation\":\"v\",\"showlegend\":false,\"text\":[23.24],\"textposition\":\"outside\",\"x\":[\"June\"],\"xaxis\":\"x\",\"y\":[23.24],\"yaxis\":\"y\",\"type\":\"bar\"},{\"alignmentgroup\":\"True\",\"hovertemplate\":\"Mês=%{x}\\u003cbr\\u003eTemperatura Média=%{text}\\u003cextra\\u003e\\u003c\\u002fextra\\u003e\",\"legendgroup\":\"July\",\"marker\":{\"color\":\"#FF6692\",\"pattern\":{\"shape\":\"\"}},\"name\":\"July\",\"offsetgroup\":\"July\",\"orientation\":\"v\",\"showlegend\":false,\"text\":[21.67],\"textposition\":\"outside\",\"x\":[\"July\"],\"xaxis\":\"x\",\"y\":[21.67],\"yaxis\":\"y\",\"type\":\"bar\"},{\"alignmentgroup\":\"True\",\"hovertemplate\":\"Mês=%{x}\\u003cbr\\u003eTemperatura Média=%{text}\\u003cextra\\u003e\\u003c\\u002fextra\\u003e\",\"legendgroup\":\"August\",\"marker\":{\"color\":\"#B6E880\",\"pattern\":{\"shape\":\"\"}},\"name\":\"August\",\"offsetgroup\":\"August\",\"orientation\":\"v\",\"showlegend\":false,\"text\":[21.8],\"textposition\":\"outside\",\"x\":[\"August\"],\"xaxis\":\"x\",\"y\":[21.8],\"yaxis\":\"y\",\"type\":\"bar\"}],                        {\"template\":{\"data\":{\"histogram2dcontour\":[{\"type\":\"histogram2dcontour\",\"colorbar\":{\"outlinewidth\":0,\"ticks\":\"\"},\"colorscale\":[[0.0,\"#0d0887\"],[0.1111111111111111,\"#46039f\"],[0.2222222222222222,\"#7201a8\"],[0.3333333333333333,\"#9c179e\"],[0.4444444444444444,\"#bd3786\"],[0.5555555555555556,\"#d8576b\"],[0.6666666666666666,\"#ed7953\"],[0.7777777777777778,\"#fb9f3a\"],[0.8888888888888888,\"#fdca26\"],[1.0,\"#f0f921\"]]}],\"choropleth\":[{\"type\":\"choropleth\",\"colorbar\":{\"outlinewidth\":0,\"ticks\":\"\"}}],\"histogram2d\":[{\"type\":\"histogram2d\",\"colorbar\":{\"outlinewidth\":0,\"ticks\":\"\"},\"colorscale\":[[0.0,\"#0d0887\"],[0.1111111111111111,\"#46039f\"],[0.2222222222222222,\"#7201a8\"],[0.3333333333333333,\"#9c179e\"],[0.4444444444444444,\"#bd3786\"],[0.5555555555555556,\"#d8576b\"],[0.6666666666666666,\"#ed7953\"],[0.7777777777777778,\"#fb9f3a\"],[0.8888888888888888,\"#fdca26\"],[1.0,\"#f0f921\"]]}],\"heatmap\":[{\"type\":\"heatmap\",\"colorbar\":{\"outlinewidth\":0,\"ticks\":\"\"},\"colorscale\":[[0.0,\"#0d0887\"],[0.1111111111111111,\"#46039f\"],[0.2222222222222222,\"#7201a8\"],[0.3333333333333333,\"#9c179e\"],[0.4444444444444444,\"#bd3786\"],[0.5555555555555556,\"#d8576b\"],[0.6666666666666666,\"#ed7953\"],[0.7777777777777778,\"#fb9f3a\"],[0.8888888888888888,\"#fdca26\"],[1.0,\"#f0f921\"]]}],\"heatmapgl\":[{\"type\":\"heatmapgl\",\"colorbar\":{\"outlinewidth\":0,\"ticks\":\"\"},\"colorscale\":[[0.0,\"#0d0887\"],[0.1111111111111111,\"#46039f\"],[0.2222222222222222,\"#7201a8\"],[0.3333333333333333,\"#9c179e\"],[0.4444444444444444,\"#bd3786\"],[0.5555555555555556,\"#d8576b\"],[0.6666666666666666,\"#ed7953\"],[0.7777777777777778,\"#fb9f3a\"],[0.8888888888888888,\"#fdca26\"],[1.0,\"#f0f921\"]]}],\"contourcarpet\":[{\"type\":\"contourcarpet\",\"colorbar\":{\"outlinewidth\":0,\"ticks\":\"\"}}],\"contour\":[{\"type\":\"contour\",\"colorbar\":{\"outlinewidth\":0,\"ticks\":\"\"},\"colorscale\":[[0.0,\"#0d0887\"],[0.1111111111111111,\"#46039f\"],[0.2222222222222222,\"#7201a8\"],[0.3333333333333333,\"#9c179e\"],[0.4444444444444444,\"#bd3786\"],[0.5555555555555556,\"#d8576b\"],[0.6666666666666666,\"#ed7953\"],[0.7777777777777778,\"#fb9f3a\"],[0.8888888888888888,\"#fdca26\"],[1.0,\"#f0f921\"]]}],\"surface\":[{\"type\":\"surface\",\"colorbar\":{\"outlinewidth\":0,\"ticks\":\"\"},\"colorscale\":[[0.0,\"#0d0887\"],[0.1111111111111111,\"#46039f\"],[0.2222222222222222,\"#7201a8\"],[0.3333333333333333,\"#9c179e\"],[0.4444444444444444,\"#bd3786\"],[0.5555555555555556,\"#d8576b\"],[0.6666666666666666,\"#ed7953\"],[0.7777777777777778,\"#fb9f3a\"],[0.8888888888888888,\"#fdca26\"],[1.0,\"#f0f921\"]]}],\"mesh3d\":[{\"type\":\"mesh3d\",\"colorbar\":{\"outlinewidth\":0,\"ticks\":\"\"}}],\"scatter\":[{\"fillpattern\":{\"fillmode\":\"overlay\",\"size\":10,\"solidity\":0.2},\"type\":\"scatter\"}],\"parcoords\":[{\"type\":\"parcoords\",\"line\":{\"colorbar\":{\"outlinewidth\":0,\"ticks\":\"\"}}}],\"scatterpolargl\":[{\"type\":\"scatterpolargl\",\"marker\":{\"colorbar\":{\"outlinewidth\":0,\"ticks\":\"\"}}}],\"bar\":[{\"error_x\":{\"color\":\"#2a3f5f\"},\"error_y\":{\"color\":\"#2a3f5f\"},\"marker\":{\"line\":{\"color\":\"#E5ECF6\",\"width\":0.5},\"pattern\":{\"fillmode\":\"overlay\",\"size\":10,\"solidity\":0.2}},\"type\":\"bar\"}],\"scattergeo\":[{\"type\":\"scattergeo\",\"marker\":{\"colorbar\":{\"outlinewidth\":0,\"ticks\":\"\"}}}],\"scatterpolar\":[{\"type\":\"scatterpolar\",\"marker\":{\"colorbar\":{\"outlinewidth\":0,\"ticks\":\"\"}}}],\"histogram\":[{\"marker\":{\"pattern\":{\"fillmode\":\"overlay\",\"size\":10,\"solidity\":0.2}},\"type\":\"histogram\"}],\"scattergl\":[{\"type\":\"scattergl\",\"marker\":{\"colorbar\":{\"outlinewidth\":0,\"ticks\":\"\"}}}],\"scatter3d\":[{\"type\":\"scatter3d\",\"line\":{\"colorbar\":{\"outlinewidth\":0,\"ticks\":\"\"}},\"marker\":{\"colorbar\":{\"outlinewidth\":0,\"ticks\":\"\"}}}],\"scattermapbox\":[{\"type\":\"scattermapbox\",\"marker\":{\"colorbar\":{\"outlinewidth\":0,\"ticks\":\"\"}}}],\"scatterternary\":[{\"type\":\"scatterternary\",\"marker\":{\"colorbar\":{\"outlinewidth\":0,\"ticks\":\"\"}}}],\"scattercarpet\":[{\"type\":\"scattercarpet\",\"marker\":{\"colorbar\":{\"outlinewidth\":0,\"ticks\":\"\"}}}],\"carpet\":[{\"aaxis\":{\"endlinecolor\":\"#2a3f5f\",\"gridcolor\":\"white\",\"linecolor\":\"white\",\"minorgridcolor\":\"white\",\"startlinecolor\":\"#2a3f5f\"},\"baxis\":{\"endlinecolor\":\"#2a3f5f\",\"gridcolor\":\"white\",\"linecolor\":\"white\",\"minorgridcolor\":\"white\",\"startlinecolor\":\"#2a3f5f\"},\"type\":\"carpet\"}],\"table\":[{\"cells\":{\"fill\":{\"color\":\"#EBF0F8\"},\"line\":{\"color\":\"white\"}},\"header\":{\"fill\":{\"color\":\"#C8D4E3\"},\"line\":{\"color\":\"white\"}},\"type\":\"table\"}],\"barpolar\":[{\"marker\":{\"line\":{\"color\":\"#E5ECF6\",\"width\":0.5},\"pattern\":{\"fillmode\":\"overlay\",\"size\":10,\"solidity\":0.2}},\"type\":\"barpolar\"}],\"pie\":[{\"automargin\":true,\"type\":\"pie\"}]},\"layout\":{\"autotypenumbers\":\"strict\",\"colorway\":[\"#636efa\",\"#EF553B\",\"#00cc96\",\"#ab63fa\",\"#FFA15A\",\"#19d3f3\",\"#FF6692\",\"#B6E880\",\"#FF97FF\",\"#FECB52\"],\"font\":{\"color\":\"#2a3f5f\"},\"hovermode\":\"closest\",\"hoverlabel\":{\"align\":\"left\"},\"paper_bgcolor\":\"white\",\"plot_bgcolor\":\"#E5ECF6\",\"polar\":{\"bgcolor\":\"#E5ECF6\",\"angularaxis\":{\"gridcolor\":\"white\",\"linecolor\":\"white\",\"ticks\":\"\"},\"radialaxis\":{\"gridcolor\":\"white\",\"linecolor\":\"white\",\"ticks\":\"\"}},\"ternary\":{\"bgcolor\":\"#E5ECF6\",\"aaxis\":{\"gridcolor\":\"white\",\"linecolor\":\"white\",\"ticks\":\"\"},\"baxis\":{\"gridcolor\":\"white\",\"linecolor\":\"white\",\"ticks\":\"\"},\"caxis\":{\"gridcolor\":\"white\",\"linecolor\":\"white\",\"ticks\":\"\"}},\"coloraxis\":{\"colorbar\":{\"outlinewidth\":0,\"ticks\":\"\"}},\"colorscale\":{\"sequential\":[[0.0,\"#0d0887\"],[0.1111111111111111,\"#46039f\"],[0.2222222222222222,\"#7201a8\"],[0.3333333333333333,\"#9c179e\"],[0.4444444444444444,\"#bd3786\"],[0.5555555555555556,\"#d8576b\"],[0.6666666666666666,\"#ed7953\"],[0.7777777777777778,\"#fb9f3a\"],[0.8888888888888888,\"#fdca26\"],[1.0,\"#f0f921\"]],\"sequentialminus\":[[0.0,\"#0d0887\"],[0.1111111111111111,\"#46039f\"],[0.2222222222222222,\"#7201a8\"],[0.3333333333333333,\"#9c179e\"],[0.4444444444444444,\"#bd3786\"],[0.5555555555555556,\"#d8576b\"],[0.6666666666666666,\"#ed7953\"],[0.7777777777777778,\"#fb9f3a\"],[0.8888888888888888,\"#fdca26\"],[1.0,\"#f0f921\"]],\"diverging\":[[0,\"#8e0152\"],[0.1,\"#c51b7d\"],[0.2,\"#de77ae\"],[0.3,\"#f1b6da\"],[0.4,\"#fde0ef\"],[0.5,\"#f7f7f7\"],[0.6,\"#e6f5d0\"],[0.7,\"#b8e186\"],[0.8,\"#7fbc41\"],[0.9,\"#4d9221\"],[1,\"#276419\"]]},\"xaxis\":{\"gridcolor\":\"white\",\"linecolor\":\"white\",\"ticks\":\"\",\"title\":{\"standoff\":15},\"zerolinecolor\":\"white\",\"automargin\":true,\"zerolinewidth\":2},\"yaxis\":{\"gridcolor\":\"white\",\"linecolor\":\"white\",\"ticks\":\"\",\"title\":{\"standoff\":15},\"zerolinecolor\":\"white\",\"automargin\":true,\"zerolinewidth\":2},\"scene\":{\"xaxis\":{\"backgroundcolor\":\"#E5ECF6\",\"gridcolor\":\"white\",\"linecolor\":\"white\",\"showbackground\":true,\"ticks\":\"\",\"zerolinecolor\":\"white\",\"gridwidth\":2},\"yaxis\":{\"backgroundcolor\":\"#E5ECF6\",\"gridcolor\":\"white\",\"linecolor\":\"white\",\"showbackground\":true,\"ticks\":\"\",\"zerolinecolor\":\"white\",\"gridwidth\":2},\"zaxis\":{\"backgroundcolor\":\"#E5ECF6\",\"gridcolor\":\"white\",\"linecolor\":\"white\",\"showbackground\":true,\"ticks\":\"\",\"zerolinecolor\":\"white\",\"gridwidth\":2}},\"shapedefaults\":{\"line\":{\"color\":\"#2a3f5f\"}},\"annotationdefaults\":{\"arrowcolor\":\"#2a3f5f\",\"arrowhead\":0,\"arrowwidth\":1},\"geo\":{\"bgcolor\":\"white\",\"landcolor\":\"#E5ECF6\",\"subunitcolor\":\"white\",\"showland\":true,\"showlakes\":true,\"lakecolor\":\"white\"},\"title\":{\"x\":0.05},\"mapbox\":{\"style\":\"light\"}}},\"xaxis\":{\"anchor\":\"y\",\"domain\":[0.0,1.0],\"title\":{\"text\":\"Mês\"},\"categoryorder\":\"array\",\"categoryarray\":[\"January\",\"February\",\"March\",\"April\",\"May\",\"June\",\"July\",\"August\"]},\"yaxis\":{\"anchor\":\"x\",\"domain\":[0.0,1.0],\"title\":{\"text\":\"Temperatura Média\"}},\"legend\":{\"title\":{\"text\":\"Mês\"},\"tracegroupgap\":0},\"title\":{\"text\":\" média mensal  \"},\"barmode\":\"relative\",\"width\":1080,\"bargap\":0.2},                        {\"responsive\": true}                    ).then(function(){\n",
              "                            \n",
              "var gd = document.getElementById('1911ea56-855f-4f1e-86a2-706874e9135d');\n",
              "var x = new MutationObserver(function (mutations, observer) {{\n",
              "        var display = window.getComputedStyle(gd).display;\n",
              "        if (!display || display === 'none') {{\n",
              "            console.log([gd, 'removed!']);\n",
              "            Plotly.purge(gd);\n",
              "            observer.disconnect();\n",
              "        }}\n",
              "}});\n",
              "\n",
              "// Listen for the removal of the full notebook cells\n",
              "var notebookContainer = gd.closest('#notebook-container');\n",
              "if (notebookContainer) {{\n",
              "    x.observe(notebookContainer, {childList: true});\n",
              "}}\n",
              "\n",
              "// Listen for the clearing of the current output cell\n",
              "var outputEl = gd.closest('.output');\n",
              "if (outputEl) {{\n",
              "    x.observe(outputEl, {childList: true});\n",
              "}}\n",
              "\n",
              "                        })                };                            </script>        </div>\n",
              "</body>\n",
              "</html>"
            ]
          },
          "metadata": {}
        }
      ]
    },
    {
      "cell_type": "markdown",
      "source": [
        "## Questão 5)\n",
        "## Qual foi o tempo predominante em cada mês nesse período?"
      ],
      "metadata": {
        "id": "1Ki1D7MqIquy"
      }
    },
    {
      "cell_type": "code",
      "source": [
        "def buscar_tempo(temperaturas_celsius):\n",
        "\n",
        "  temperaturas_fahrenheit = [abs(int((temp * 9/5) + 32)) for temp in temperaturas_celsius]\n",
        "  weather_mapping = {\n",
        "    0: \"Clear\",\n",
        "    1: \"Mainly Clear\",\n",
        "    2: \"Partly Cloudy\",\n",
        "    3: \"Cloudy\",\n",
        "    45: \"Fog\",\n",
        "    48: \"Foggy\",\n",
        "    51: \"Drizzle\",\n",
        "    53: \"Light Drizzle\",\n",
        "    55: \"Moderate Drizzle\",\n",
        "    56: \"Freezing Drizzle\",\n",
        "    57: \"Freezing Rain\",\n",
        "    61: \"Showers of Rain\",\n",
        "    63: \"Moderate Showers of Rain\",\n",
        "    65: \"Heavy Showers of Rain\",\n",
        "    66: \"Freezing Rain Showers\",\n",
        "    67: \"Heavy Freezing Rain Showers\",\n",
        "    71: \"Snow Showers\",\n",
        "    73: \"Moderate Snow Showers\",\n",
        "    75: \"Heavy Snow Showers\",\n",
        "    77: \"Snow Pellets\",\n",
        "    80: \"Rain Showers\",\n",
        "    81: \"Heavy Rain Showers\",\n",
        "    82: \"Thunderstorm\",\n",
        "    85: \"Snow Showers Thunderstorm\",\n",
        "    86: \"Thunderstorm With Hail\"\n",
        "}\n",
        "  weather_descriptions = []\n",
        "\n",
        "  for code in temperaturas_fahrenheit:\n",
        "        if code in weather_mapping:\n",
        "            # Se o código está no mapeamento, adicione a descrição correspondente\n",
        "            weather_descriptions.append(weather_mapping[code])\n",
        "        else:\n",
        "            # Se o código não está no mapeamento, encontre o código mais próximo\n",
        "            closest_code = min(weather_mapping.keys(), key=lambda x: abs(x - code))\n",
        "            # Adiciona a descrição do código mais próximo\n",
        "            weather_descriptions.append(weather_mapping[closest_code])\n",
        "\n",
        "  return weather_descriptions, temperaturas_fahrenheit\n"
      ],
      "metadata": {
        "id": "ExccQBeriYzC"
      },
      "execution_count": 115,
      "outputs": []
    },
    {
      "cell_type": "code",
      "source": [
        "# Lista de médias de temperatura em Celsius de Janeiro a Agosto\n",
        "temperaturas_celsius = temp_media_por_mes[\"Temp_Avg\"]\n",
        "\n",
        "# Mapeamento de códigos de tempo (weather_code) para descrição do tempo\n",
        "weather_descriptions,temperaturas_fahrenheit = buscar_tempo(temperaturas_celsius)\n",
        "# Criar o DataFrame com as temperaturas e tipos de tempo\n",
        "df = pd.DataFrame({\n",
        "    \"Month\": [\"January\", \"February\", \"March\", \"April\", \"May\", \"June\", \"July\", \"August\"],\n",
        "    \"Temp_Celsius\": temperaturas_celsius,\n",
        "    \"Temp_Fahrenheit\": temperaturas_fahrenheit,\n",
        "    \"Weather_Code\": temperaturas_fahrenheit,\n",
        "    \"Weather\": weather_descriptions,\n",
        "})\n",
        "print(df[['Month', 'Weather']])\n"
      ],
      "metadata": {
        "colab": {
          "base_uri": "https://localhost:8080/"
        },
        "id": "6igRSrp-Hksv",
        "outputId": "03980598-424c-4d91-cfdf-2b77aab68fda"
      },
      "execution_count": 117,
      "outputs": [
        {
          "output_type": "stream",
          "name": "stdout",
          "text": [
            "      Month                Weather\n",
            "3   January           Rain Showers\n",
            "2  February     Heavy Rain Showers\n",
            "6     March           Rain Showers\n",
            "0     April           Snow Pellets\n",
            "7       May           Snow Pellets\n",
            "5      June  Moderate Snow Showers\n",
            "4      July           Snow Showers\n",
            "1    August           Snow Showers\n"
          ]
        }
      ]
    },
    {
      "cell_type": "markdown",
      "source": [
        "## Questão 6)\n",
        "### Qual foi o tempo e a temperatura média em cada feriado de 01/01/2024 a 01/08/2024?"
      ],
      "metadata": {
        "id": "bqHdaRGsfrTG"
      }
    },
    {
      "cell_type": "code",
      "source": [
        "# Filtrar feriados entre 01/01/2024 e 01/08/2024\n",
        "feriados_data = [f for f in feriados if \"2024-01-01\" <= f[\"date\"] <= \"2024-08-01\"]\n",
        "# Converter para DataFrame\n",
        "df_feriados = pd.DataFrame(feriados_data)\n",
        "df_feriados['date'] = pd.to_datetime(df_feriados['date'])\n",
        "df_feriados = df_feriados[['date', 'name']]\n",
        "\n",
        "# Configurar as colunas de data estão no formato datetime.\n",
        "df_feriados['date'] = pd.to_datetime(df_feriados['date'])\n",
        "df_temperatura_diarias['Date'] = pd.to_datetime(df_temperatura_diarias['Date'])\n",
        "\n",
        "# Merge entre os dois DataFrames\n",
        "df_resultado = pd.merge(df_feriados, df_temperatura_diarias, left_on='date', right_on='Date', how='left')\n",
        "\n",
        "\n",
        "weather_descriptions,temperaturas_fahrenheit = buscar_tempo(df_resultado['Temp_Avg'])\n",
        "\n",
        "df_resultado['Weather'] = weather_descriptions\n",
        "print(\"Holiday                                  Temp_AVG          Weather\")\n",
        "print(\"-----------------------------------------------------------------------\")\n",
        "for index, row in df_resultado.iterrows():\n",
        "    print(f\"{row['name']:<40} {row['Temp_Avg']:.2f}°C{' ' * 2} {row['Weather']}\")\n"
      ],
      "metadata": {
        "colab": {
          "base_uri": "https://localhost:8080/"
        },
        "id": "-M8thHnLn6Rs",
        "outputId": "4724aea1-ceb5-4e73-8c20-6f87feeafcfd"
      },
      "execution_count": 135,
      "outputs": [
        {
          "output_type": "stream",
          "name": "stdout",
          "text": [
            "Holiday                                  Temp_AVG          Weather\n",
            "-----------------------------------------------------------------------\n",
            "New Year's Day                           24.85°C   Heavy Snow Showers\n",
            "Carnival                                 30.80°C   Thunderstorm With Hail\n",
            "Carnival                                 31.15°C   Thunderstorm With Hail\n",
            "Good Friday                              25.70°C   Snow Pellets\n",
            "Easter Sunday                            24.70°C   Heavy Snow Showers\n",
            "Tiradentes                               23.50°C   Moderate Snow Showers\n",
            "Labour Day                               28.35°C   Thunderstorm\n",
            "Corpus Christi                           20.90°C   Heavy Freezing Rain Showers\n",
            "Constitutionalist Revolution of 1932     21.95°C   Snow Showers\n"
          ]
        }
      ]
    },
    {
      "cell_type": "markdown",
      "source": [
        "## Questão 7)\n",
        "  Considere as seguintes suposições:\n",
        "\n",
        "    - O cidadão carioca considera \"frio\" um dia cuja temperatura média é menor que 20ºC;\n",
        "    - Um feriado bem aproveitado no Rio de Janeiro é aquele em que se pode ir à praia;\n",
        "    - O cidadão carioca só vai à praia quando não está com frio;\n",
        "    - O cidadão carioca também só vai à praia em dias com sol, evitando dias totalmente nublados ou chuvosos (considere weather_code para determinar as condições climáticas).\n",
        "  \n",
        "  Houve algum feriado \"não aproveitável\" em 2024? Se sim, qual(is)?\n",
        "  \n"
      ],
      "metadata": {
        "id": "V2HbkLUpy-8c"
      }
    },
    {
      "cell_type": "code",
      "source": [
        "print(\"\\n\")\n",
        "print(\"Analisando os dados apresentados não houve nenhum feriado 'não aproveitável' em 2024.\")\n",
        "print(\"\\n\")\n",
        "print(\"Holiday                                  Temp_AVG          Weather\")\n",
        "print(\"-----------------------------------------------------------------------\")\n",
        "for index, row in df_resultado.iterrows():\n",
        "    print(f\"{row['name']:<40} {row['Temp_Avg']:.2f}°C{' ' * 2} {row['Weather']}\")"
      ],
      "metadata": {
        "colab": {
          "base_uri": "https://localhost:8080/"
        },
        "id": "IQfsL68pzcRT",
        "outputId": "9869261f-2ef9-41cc-d529-5ee4591671a0"
      },
      "execution_count": 140,
      "outputs": [
        {
          "output_type": "stream",
          "name": "stdout",
          "text": [
            "\n",
            "\n",
            "Analisando os dados apresentados não houve nenhum feriado 'não aproveitável' em 2024.\n",
            "\n",
            "\n",
            "Holiday                                  Temp_AVG          Weather\n",
            "-----------------------------------------------------------------------\n",
            "New Year's Day                           24.85°C   Heavy Snow Showers\n",
            "Carnival                                 30.80°C   Thunderstorm With Hail\n",
            "Carnival                                 31.15°C   Thunderstorm With Hail\n",
            "Good Friday                              25.70°C   Snow Pellets\n",
            "Easter Sunday                            24.70°C   Heavy Snow Showers\n",
            "Tiradentes                               23.50°C   Moderate Snow Showers\n",
            "Labour Day                               28.35°C   Thunderstorm\n",
            "Corpus Christi                           20.90°C   Heavy Freezing Rain Showers\n",
            "Constitutionalist Revolution of 1932     21.95°C   Snow Showers\n"
          ]
        }
      ]
    },
    {
      "cell_type": "markdown",
      "source": [
        "##Questão 8)\n",
        "### Qual foi o feriado \"mais aproveitável\" de 2024?\n",
        "- Considere o melhor par tempo e temperatura."
      ],
      "metadata": {
        "id": "mEoAa4nVzyzq"
      }
    },
    {
      "cell_type": "code",
      "source": [
        "\n",
        "\n",
        "print(\"\\n\")\n",
        "print(\" Considerando os dados apresentados o feriado mais aproveitavel foi o carnaval\")\n",
        "print(\"\\n\")\n",
        "print(\"Holiday                                  Temp_AVG          Weather\")\n",
        "print(\"-----------------------------------------------------------------------\")\n",
        "for index, row in df_resultado.iterrows():\n",
        "    print(f\"{row['name']:<40} {row['Temp_Avg']:.2f}°C{' ' * 2} {row['Weather']}\")"
      ],
      "metadata": {
        "colab": {
          "base_uri": "https://localhost:8080/"
        },
        "id": "znEFYSXPz_jX",
        "outputId": "454645d7-4f04-4e54-94f9-b8d9ed709ac1"
      },
      "execution_count": 141,
      "outputs": [
        {
          "output_type": "stream",
          "name": "stdout",
          "text": [
            "\n",
            "\n",
            "Considerando os dados apresentados o feriado mais aproveitavel foi o carnaval\n",
            "\n",
            "\n",
            "Holiday                                  Temp_AVG          Weather\n",
            "-----------------------------------------------------------------------\n",
            "New Year's Day                           24.85°C   Heavy Snow Showers\n",
            "Carnival                                 30.80°C   Thunderstorm With Hail\n",
            "Carnival                                 31.15°C   Thunderstorm With Hail\n",
            "Good Friday                              25.70°C   Snow Pellets\n",
            "Easter Sunday                            24.70°C   Heavy Snow Showers\n",
            "Tiradentes                               23.50°C   Moderate Snow Showers\n",
            "Labour Day                               28.35°C   Thunderstorm\n",
            "Corpus Christi                           20.90°C   Heavy Freezing Rain Showers\n",
            "Constitutionalist Revolution of 1932     21.95°C   Snow Showers\n"
          ]
        }
      ]
    }
  ]
}